{
  "nbformat": 4,
  "nbformat_minor": 0,
  "metadata": {
    "colab": {
      "name": "Fake News Detection",
      "provenance": [],
      "collapsed_sections": []
    },
    "kernelspec": {
      "name": "python3",
      "display_name": "Python 3"
    },
    "accelerator": "GPU"
  },
  "cells": [
    {
      "cell_type": "markdown",
      "metadata": {
        "id": "sFU9LTOyMiMj"
      },
      "source": [
        "# Deep Learning for Fake News Detection\n",
        "\n",
        "**Fake news classifier**: Train a text classification model to detect fake news articles!\n",
        "\n",
        "* Download the dataset here: https://www.kaggle.com/clmentbisaillon/fake-and-real-news-dataset\n",
        "* Develop an NLP model for classification that uses a pretrained language model\n"
      ]
    },
    {
      "cell_type": "markdown",
      "source": [
        "**Setup notbook to use TPU:**"
      ],
      "metadata": {
        "id": "_kIhQRKZRno_"
      }
    },
    {
      "cell_type": "code",
      "source": [
        "import tensorflow as tf\n",
        "\n",
        "# Detect hardware, return appropriate distribution strategy\n",
        "try:\n",
        "    # TPU detection. No parameters necessary if TPU_NAME environment variable is\n",
        "    # set: this is always the case on Kaggle.\n",
        "    tpu = tf.distribute.cluster_resolver.TPUClusterResolver()\n",
        "    print('Running on TPU ', tpu.master())\n",
        "except ValueError:\n",
        "    tpu = None\n",
        "\n",
        "if tpu:\n",
        "    tf.config.experimental_connect_to_cluster(tpu)\n",
        "    tf.tpu.experimental.initialize_tpu_system(tpu)\n",
        "    strategy = tf.distribute.experimental.TPUStrategy(tpu)\n",
        "else:\n",
        "    # Default distribution strategy in Tensorflow. Works on CPU and single GPU.\n",
        "    strategy = tf.distribute.get_strategy()\n",
        "\n",
        "print(\"REPLICAS: \", strategy.num_replicas_in_sync)"
      ],
      "metadata": {
        "colab": {
          "base_uri": "https://localhost:8080/"
        },
        "id": "c2smQkMglA6B",
        "outputId": "dec6726a-0f1b-46d4-e167-17958cff1ac4"
      },
      "execution_count": null,
      "outputs": [
        {
          "output_type": "stream",
          "name": "stdout",
          "text": [
            "REPLICAS:  1\n"
          ]
        }
      ]
    },
    {
      "cell_type": "markdown",
      "source": [
        "**Prepare and load data:**"
      ],
      "metadata": {
        "id": "k3P6_4kgRy7H"
      }
    },
    {
      "cell_type": "code",
      "source": [
        "### prepare data\n",
        "\n",
        "import pandas as pd\n",
        "\n",
        "# # download original dataset\n",
        "# !gdown --id 1MrvX7MPvkSogsSfvLK1XFfM1RGS9iNUB\n",
        "# !gdown --id 1vj5HThNl8_FlFdKzhLN6Ti-BplL3qM89\n",
        "\n",
        "# fake_news = pd.read_csv('Fake.csv')\n",
        "# true_news = pd.read_csv('True.csv')\n",
        "\n",
        "# fake_news['label'] = 1\n",
        "# true_news['label'] = 0\n",
        "\n",
        "# data = pd.concat([fake_news ,true_news])\n",
        "# data = data.sample(frac=1)\n",
        "\n",
        "# train = pd.DataFrame(data.values[:int(len(data) * 0.9)], columns=['title', 'text', 'subject', 'date', 'label'])\n",
        "# test = pd.DataFrame(data.values[int(len(data) * 0.9):], columns=['title', 'text', 'subject', 'date', 'label'])\n",
        "# valid = pd.DataFrame(train.values[int(len(train) * 0.9):], columns=['title', 'text', 'subject', 'date', 'label'])\n",
        "# train = train.loc[~train.index.isin(valid.index)]\n",
        "\n",
        "# train.to_csv('train.csv')\n",
        "# valid.to_csv('valid.csv')\n",
        "# test.to_csv('test.csv')\n",
        "\n",
        "# download prepared dataset\n",
        "!gdown --id 1KipcGINFYbUAXRuIWOCOxOGC4Pyk7szl\n",
        "!gdown --id 1zDlcNz4Xa3aRZJGcNvyvOG26tdWd879B\n",
        "!gdown --id 1HsDbjjeOI7O_bKNvvwJmS81n7-zmOPLG\n",
        "\n",
        "train = pd.read_csv('train.csv')\n",
        "valid = pd.read_csv('valid.csv')\n",
        "test = pd.read_csv('test.csv')"
      ],
      "metadata": {
        "colab": {
          "base_uri": "https://localhost:8080/"
        },
        "id": "JiVKYMR5R34G",
        "outputId": "cde2992b-a3f9-4900-fdef-dca3aafbf1af"
      },
      "execution_count": null,
      "outputs": [
        {
          "output_type": "stream",
          "name": "stdout",
          "text": [
            "Downloading...\n",
            "From: https://drive.google.com/uc?id=1KipcGINFYbUAXRuIWOCOxOGC4Pyk7szl\n",
            "To: /content/train.csv\n",
            "100% 94.6M/94.6M [00:00<00:00, 148MB/s]\n",
            "Downloading...\n",
            "From: https://drive.google.com/uc?id=1zDlcNz4Xa3aRZJGcNvyvOG26tdWd879B\n",
            "To: /content/valid.csv\n",
            "100% 10.3M/10.3M [00:00<00:00, 107MB/s]\n",
            "Downloading...\n",
            "From: https://drive.google.com/uc?id=1HsDbjjeOI7O_bKNvvwJmS81n7-zmOPLG\n",
            "To: /content/test.csv\n",
            "100% 11.5M/11.5M [00:00<00:00, 63.1MB/s]\n"
          ]
        }
      ]
    },
    {
      "cell_type": "markdown",
      "source": [
        "**Model training:**"
      ],
      "metadata": {
        "id": "Bg2WsVbdR5q-"
      }
    },
    {
      "cell_type": "code",
      "source": [
        "!pip install transformers\n",
        "!pip install SentencePiece"
      ],
      "metadata": {
        "colab": {
          "base_uri": "https://localhost:8080/"
        },
        "id": "5LANhD1Jhjpq",
        "outputId": "fe6e86f3-b1b5-494a-8986-4237a2e771e5"
      },
      "execution_count": null,
      "outputs": [
        {
          "output_type": "stream",
          "name": "stdout",
          "text": [
            "Requirement already satisfied: transformers in /usr/local/lib/python3.7/dist-packages (4.18.0)\n",
            "Requirement already satisfied: requests in /usr/local/lib/python3.7/dist-packages (from transformers) (2.23.0)\n",
            "Requirement already satisfied: regex!=2019.12.17 in /usr/local/lib/python3.7/dist-packages (from transformers) (2019.12.20)\n",
            "Requirement already satisfied: importlib-metadata in /usr/local/lib/python3.7/dist-packages (from transformers) (4.11.3)\n",
            "Requirement already satisfied: numpy>=1.17 in /usr/local/lib/python3.7/dist-packages (from transformers) (1.21.5)\n",
            "Requirement already satisfied: huggingface-hub<1.0,>=0.1.0 in /usr/local/lib/python3.7/dist-packages (from transformers) (0.5.1)\n",
            "Requirement already satisfied: pyyaml>=5.1 in /usr/local/lib/python3.7/dist-packages (from transformers) (6.0)\n",
            "Requirement already satisfied: filelock in /usr/local/lib/python3.7/dist-packages (from transformers) (3.6.0)\n",
            "Requirement already satisfied: tqdm>=4.27 in /usr/local/lib/python3.7/dist-packages (from transformers) (4.63.0)\n",
            "Requirement already satisfied: sacremoses in /usr/local/lib/python3.7/dist-packages (from transformers) (0.0.49)\n",
            "Requirement already satisfied: tokenizers!=0.11.3,<0.13,>=0.11.1 in /usr/local/lib/python3.7/dist-packages (from transformers) (0.11.6)\n",
            "Requirement already satisfied: packaging>=20.0 in /usr/local/lib/python3.7/dist-packages (from transformers) (21.3)\n",
            "Requirement already satisfied: typing-extensions>=3.7.4.3 in /usr/local/lib/python3.7/dist-packages (from huggingface-hub<1.0,>=0.1.0->transformers) (3.10.0.2)\n",
            "Requirement already satisfied: pyparsing!=3.0.5,>=2.0.2 in /usr/local/lib/python3.7/dist-packages (from packaging>=20.0->transformers) (3.0.7)\n",
            "Requirement already satisfied: zipp>=0.5 in /usr/local/lib/python3.7/dist-packages (from importlib-metadata->transformers) (3.7.0)\n",
            "Requirement already satisfied: chardet<4,>=3.0.2 in /usr/local/lib/python3.7/dist-packages (from requests->transformers) (3.0.4)\n",
            "Requirement already satisfied: idna<3,>=2.5 in /usr/local/lib/python3.7/dist-packages (from requests->transformers) (2.10)\n",
            "Requirement already satisfied: certifi>=2017.4.17 in /usr/local/lib/python3.7/dist-packages (from requests->transformers) (2021.10.8)\n",
            "Requirement already satisfied: urllib3!=1.25.0,!=1.25.1,<1.26,>=1.21.1 in /usr/local/lib/python3.7/dist-packages (from requests->transformers) (1.24.3)\n",
            "Requirement already satisfied: joblib in /usr/local/lib/python3.7/dist-packages (from sacremoses->transformers) (1.1.0)\n",
            "Requirement already satisfied: click in /usr/local/lib/python3.7/dist-packages (from sacremoses->transformers) (7.1.2)\n",
            "Requirement already satisfied: six in /usr/local/lib/python3.7/dist-packages (from sacremoses->transformers) (1.15.0)\n",
            "Requirement already satisfied: SentencePiece in /usr/local/lib/python3.7/dist-packages (0.1.96)\n"
          ]
        }
      ]
    },
    {
      "cell_type": "code",
      "source": [
        "from transformers import *"
      ],
      "metadata": {
        "id": "UZKbKsfPio-Z"
      },
      "execution_count": null,
      "outputs": []
    },
    {
      "cell_type": "code",
      "source": [
        "MODEL_NAME = 'bert-base-uncased'\n",
        "MAX_LEN = 32\n",
        "DROPOUT = 0.5"
      ],
      "metadata": {
        "id": "kJNtVUQOhqMS"
      },
      "execution_count": null,
      "outputs": []
    },
    {
      "cell_type": "code",
      "source": [
        "def prepare_dataset(data, tokenizer, max_len):\n",
        "\n",
        "  ids = []\n",
        "  masks = []\n",
        "  labels = []\n",
        "  token_ids = []\n",
        "\n",
        "  labels = []\n",
        "  \n",
        "  for row in data.itertuples():\n",
        "    text = row.text\n",
        "    inputs = tokenizer(text, None, max_length=max_len, pad_to_max_length=True, truncation=True, return_attention_mask=True, return_token_type_ids=True, add_special_tokens=True)\n",
        "    ids.append(inputs['input_ids'])\n",
        "    masks.append(inputs['attention_mask'])\n",
        "    token_ids.append(inputs['token_type_ids'])\n",
        "\n",
        "    labels.append(row.label)\n",
        "\n",
        "  return {\n",
        "      'input_ids': ids,\n",
        "      'attention_mask': masks,\n",
        "      'token_type_ids': token_ids,\n",
        "      'labels': labels\n",
        "      }\n",
        "\n",
        "tokenizer = AutoTokenizer.from_pretrained(MODEL_NAME, pad_token='[PAD]')"
      ],
      "metadata": {
        "colab": {
          "base_uri": "https://localhost:8080/"
        },
        "id": "eQjBDC6oh0Zi",
        "outputId": "c82914ed-3e98-461e-d262-966471f2802b"
      },
      "execution_count": null,
      "outputs": [
        {
          "output_type": "stream",
          "name": "stderr",
          "text": [
            "loading configuration file https://huggingface.co/bert-base-uncased/resolve/main/config.json from cache at /root/.cache/huggingface/transformers/3c61d016573b14f7f008c02c4e51a366c67ab274726fe2910691e2a761acf43e.37395cee442ab11005bcd270f3c34464dc1704b715b5d7d52b1a461abe3b9e4e\n",
            "Model config BertConfig {\n",
            "  \"_name_or_path\": \"bert-base-uncased\",\n",
            "  \"architectures\": [\n",
            "    \"BertForMaskedLM\"\n",
            "  ],\n",
            "  \"attention_probs_dropout_prob\": 0.1,\n",
            "  \"classifier_dropout\": null,\n",
            "  \"gradient_checkpointing\": false,\n",
            "  \"hidden_act\": \"gelu\",\n",
            "  \"hidden_dropout_prob\": 0.1,\n",
            "  \"hidden_size\": 768,\n",
            "  \"initializer_range\": 0.02,\n",
            "  \"intermediate_size\": 3072,\n",
            "  \"layer_norm_eps\": 1e-12,\n",
            "  \"max_position_embeddings\": 512,\n",
            "  \"model_type\": \"bert\",\n",
            "  \"num_attention_heads\": 12,\n",
            "  \"num_hidden_layers\": 12,\n",
            "  \"pad_token_id\": 0,\n",
            "  \"position_embedding_type\": \"absolute\",\n",
            "  \"transformers_version\": \"4.18.0\",\n",
            "  \"type_vocab_size\": 2,\n",
            "  \"use_cache\": true,\n",
            "  \"vocab_size\": 30522\n",
            "}\n",
            "\n",
            "loading file https://huggingface.co/bert-base-uncased/resolve/main/vocab.txt from cache at /root/.cache/huggingface/transformers/45c3f7a79a80e1cf0a489e5c62b43f173c15db47864303a55d623bb3c96f72a5.d789d64ebfe299b0e416afc4a169632f903f693095b4629a7ea271d5a0cf2c99\n",
            "loading file https://huggingface.co/bert-base-uncased/resolve/main/tokenizer.json from cache at /root/.cache/huggingface/transformers/534479488c54aeaf9c3406f647aa2ec13648c06771ffe269edabebd4c412da1d.7f2721073f19841be16f41b0a70b600ca6b880c8f3df6f3535cbc704371bdfa4\n",
            "loading file https://huggingface.co/bert-base-uncased/resolve/main/added_tokens.json from cache at None\n",
            "loading file https://huggingface.co/bert-base-uncased/resolve/main/special_tokens_map.json from cache at None\n",
            "loading file https://huggingface.co/bert-base-uncased/resolve/main/tokenizer_config.json from cache at /root/.cache/huggingface/transformers/c1d7f0a763fb63861cc08553866f1fc3e5a6f4f07621be277452d26d71303b7e.20430bd8e10ef77a7d2977accefe796051e01bc2fc4aa146bc862997a1a15e79\n",
            "loading configuration file https://huggingface.co/bert-base-uncased/resolve/main/config.json from cache at /root/.cache/huggingface/transformers/3c61d016573b14f7f008c02c4e51a366c67ab274726fe2910691e2a761acf43e.37395cee442ab11005bcd270f3c34464dc1704b715b5d7d52b1a461abe3b9e4e\n",
            "Model config BertConfig {\n",
            "  \"_name_or_path\": \"bert-base-uncased\",\n",
            "  \"architectures\": [\n",
            "    \"BertForMaskedLM\"\n",
            "  ],\n",
            "  \"attention_probs_dropout_prob\": 0.1,\n",
            "  \"classifier_dropout\": null,\n",
            "  \"gradient_checkpointing\": false,\n",
            "  \"hidden_act\": \"gelu\",\n",
            "  \"hidden_dropout_prob\": 0.1,\n",
            "  \"hidden_size\": 768,\n",
            "  \"initializer_range\": 0.02,\n",
            "  \"intermediate_size\": 3072,\n",
            "  \"layer_norm_eps\": 1e-12,\n",
            "  \"max_position_embeddings\": 512,\n",
            "  \"model_type\": \"bert\",\n",
            "  \"num_attention_heads\": 12,\n",
            "  \"num_hidden_layers\": 12,\n",
            "  \"pad_token_id\": 0,\n",
            "  \"position_embedding_type\": \"absolute\",\n",
            "  \"transformers_version\": \"4.18.0\",\n",
            "  \"type_vocab_size\": 2,\n",
            "  \"use_cache\": true,\n",
            "  \"vocab_size\": 30522\n",
            "}\n",
            "\n"
          ]
        }
      ]
    },
    {
      "cell_type": "code",
      "source": [
        "training_set = prepare_dataset(train, tokenizer, MAX_LEN)\n",
        "validating_set = prepare_dataset(valid, tokenizer, MAX_LEN)\n",
        "testting_set = prepare_dataset(test, tokenizer, MAX_LEN)"
      ],
      "metadata": {
        "colab": {
          "base_uri": "https://localhost:8080/"
        },
        "id": "eNwDeojqjy66",
        "outputId": "350e86c9-4075-4729-e380-8c855eb5ab6b"
      },
      "execution_count": null,
      "outputs": [
        {
          "output_type": "stream",
          "name": "stderr",
          "text": [
            "/usr/local/lib/python3.7/dist-packages/transformers/tokenization_utils_base.py:2269: FutureWarning: The `pad_to_max_length` argument is deprecated and will be removed in a future version, use `padding=True` or `padding='longest'` to pad to the longest sequence in the batch, or use `padding='max_length'` to pad to a max length. In this case, you can give a specific length with `max_length` (e.g. `max_length=45`) or leave max_length to None to pad to the maximal input size of the model (e.g. 512 for Bert).\n",
            "  FutureWarning,\n"
          ]
        }
      ]
    },
    {
      "cell_type": "code",
      "source": [
        "import tensorflow as tf\n",
        "from tensorflow.keras.layers import * \n",
        "from tensorflow.keras import optimizers, losses\n",
        "from tensorflow.keras.models import Model\n",
        "from tensorflow.keras.metrics import Recall, Precision"
      ],
      "metadata": {
        "id": "-S93cvTQiAOp"
      },
      "execution_count": null,
      "outputs": []
    },
    {
      "cell_type": "code",
      "source": [
        "def get_model():\n",
        "\n",
        "  input_ids = Input(shape=(MAX_LEN,), dtype=tf.int32)\n",
        "  attention_mask = Input(shape=(MAX_LEN,), dtype=tf.int32)\n",
        "  token_type_ids = Input(shape=(MAX_LEN,), dtype=tf.int32)\n",
        "\n",
        "  encoder = TFAutoModel.from_pretrained(MODEL_NAME, return_dict=True)\n",
        "\n",
        "  sequence_outputs = encoder({\"input_ids\": input_ids, \"token_type_ids\": token_type_ids, \"attention_mask\": attention_mask}, training=True).last_hidden_state\n",
        "\n",
        "  conv1_layer = Conv1D(filters=32, kernel_size=3, strides=2, padding='valid', activation='relu')(sequence_outputs)\n",
        "  pool_layer1 = MaxPooling1D()(conv1_layer)\n",
        "\n",
        "  flat_layer = Flatten()(pool_layer1)\n",
        "  dense_layer = Dense(128, activation=\"relu\")(flat_layer)\n",
        "  drop_out = Dropout(DROPOUT)(dense_layer)\n",
        "  output = Dense(2, activation='softmax')(drop_out)\n",
        "    \n",
        "  model = Model(inputs=[input_ids, attention_mask, token_type_ids], outputs=output) \n",
        "\n",
        "  optimizer = optimizers.Adam(lr=2e-5)\n",
        "  loss = losses.binary_crossentropy\n",
        "\n",
        "  model.compile(loss=loss, optimizer=optimizer, metrics=['accuracy', Recall(), Precision()])\n",
        "\n",
        "  model.summary()\n",
        "\n",
        "  return model"
      ],
      "metadata": {
        "id": "iNYuwEl5GG1e"
      },
      "execution_count": null,
      "outputs": []
    },
    {
      "cell_type": "code",
      "source": [
        "from tensorflow.keras.utils import to_categorical\n",
        "import numpy as np \n",
        "\n",
        "x_train = [np.array(training_set['input_ids'], dtype=int), np.array(training_set['attention_mask'], dtype=int), np.array(training_set['token_type_ids'], dtype=int)]\n",
        "x_valid = [np.array(validating_set['input_ids'], dtype=int), np.array(validating_set['attention_mask'], dtype=int), np.array(validating_set['token_type_ids'], dtype=int)]\n",
        "x_test = [np.array(testting_set['input_ids'], dtype=int), np.array(testting_set['attention_mask'], dtype=int), np.array(testting_set['token_type_ids'], dtype=int)]\n",
        "\n",
        "y_train = np.array(to_categorical(training_set['labels']), dtype=int)\n",
        "y_valid = np.array(to_categorical(validating_set['labels']), dtype=int)\n",
        "y_test = np.array(to_categorical(testting_set['labels']), dtype=int)\n",
        "\n",
        "\n",
        "with strategy.scope():\n",
        "    model = get_model()\n",
        "\n",
        "model.summary()\n",
        "tf.keras.utils.plot_model(model, to_file='./model.png', show_shapes=True)"
      ],
      "metadata": {
        "colab": {
          "base_uri": "https://localhost:8080/",
          "height": 1000
        },
        "id": "GlkjIOPFjuUx",
        "outputId": "83c5febe-5737-4da8-f257-6c4ec037944e"
      },
      "execution_count": null,
      "outputs": [
        {
          "output_type": "stream",
          "name": "stderr",
          "text": [
            "loading configuration file https://huggingface.co/bert-base-uncased/resolve/main/config.json from cache at /root/.cache/huggingface/transformers/3c61d016573b14f7f008c02c4e51a366c67ab274726fe2910691e2a761acf43e.37395cee442ab11005bcd270f3c34464dc1704b715b5d7d52b1a461abe3b9e4e\n",
            "Model config BertConfig {\n",
            "  \"_name_or_path\": \"bert-base-uncased\",\n",
            "  \"architectures\": [\n",
            "    \"BertForMaskedLM\"\n",
            "  ],\n",
            "  \"attention_probs_dropout_prob\": 0.1,\n",
            "  \"classifier_dropout\": null,\n",
            "  \"gradient_checkpointing\": false,\n",
            "  \"hidden_act\": \"gelu\",\n",
            "  \"hidden_dropout_prob\": 0.1,\n",
            "  \"hidden_size\": 768,\n",
            "  \"initializer_range\": 0.02,\n",
            "  \"intermediate_size\": 3072,\n",
            "  \"layer_norm_eps\": 1e-12,\n",
            "  \"max_position_embeddings\": 512,\n",
            "  \"model_type\": \"bert\",\n",
            "  \"num_attention_heads\": 12,\n",
            "  \"num_hidden_layers\": 12,\n",
            "  \"pad_token_id\": 0,\n",
            "  \"position_embedding_type\": \"absolute\",\n",
            "  \"transformers_version\": \"4.18.0\",\n",
            "  \"type_vocab_size\": 2,\n",
            "  \"use_cache\": true,\n",
            "  \"vocab_size\": 30522\n",
            "}\n",
            "\n",
            "loading weights file https://huggingface.co/bert-base-uncased/resolve/main/tf_model.h5 from cache at /root/.cache/huggingface/transformers/775efbdc2152093295bc5824dee96da82a5f3c1f218dfface1b8cef3094bdf8f.c719a806caef7d36ec0185f14b3b5fa727d919f924abe35622b4b7147bfbb8c7.h5\n",
            "Some layers from the model checkpoint at bert-base-uncased were not used when initializing TFBertModel: ['mlm___cls', 'nsp___cls']\n",
            "- This IS expected if you are initializing TFBertModel from the checkpoint of a model trained on another task or with another architecture (e.g. initializing a BertForSequenceClassification model from a BertForPreTraining model).\n",
            "- This IS NOT expected if you are initializing TFBertModel from the checkpoint of a model that you expect to be exactly identical (initializing a BertForSequenceClassification model from a BertForSequenceClassification model).\n",
            "All the layers of TFBertModel were initialized from the model checkpoint at bert-base-uncased.\n",
            "If your task is similar to the task the model of the checkpoint was trained on, you can already use TFBertModel for predictions without further training.\n"
          ]
        },
        {
          "output_type": "stream",
          "name": "stdout",
          "text": [
            "Model: \"model\"\n",
            "__________________________________________________________________________________________________\n",
            " Layer (type)                   Output Shape         Param #     Connected to                     \n",
            "==================================================================================================\n",
            " input_2 (InputLayer)           [(None, 32)]         0           []                               \n",
            "                                                                                                  \n",
            " input_1 (InputLayer)           [(None, 32)]         0           []                               \n",
            "                                                                                                  \n",
            " input_3 (InputLayer)           [(None, 32)]         0           []                               \n",
            "                                                                                                  \n",
            " tf_bert_model (TFBertModel)    TFBaseModelOutputWi  109482240   ['input_2[0][0]',                \n",
            "                                thPoolingAndCrossAt               'input_1[0][0]',                \n",
            "                                tentions(last_hidde               'input_3[0][0]']                \n",
            "                                n_state=(None, 32,                                                \n",
            "                                768),                                                             \n",
            "                                 pooler_output=(Non                                               \n",
            "                                e, 768),                                                          \n",
            "                                 past_key_values=No                                               \n",
            "                                ne, hidden_states=N                                               \n",
            "                                one, attentions=Non                                               \n",
            "                                e, cross_attentions                                               \n",
            "                                =None)                                                            \n",
            "                                                                                                  \n",
            " conv1d (Conv1D)                (None, 15, 32)       73760       ['tf_bert_model[0][0]']          \n",
            "                                                                                                  \n",
            " max_pooling1d (MaxPooling1D)   (None, 7, 32)        0           ['conv1d[0][0]']                 \n",
            "                                                                                                  \n",
            " flatten (Flatten)              (None, 224)          0           ['max_pooling1d[0][0]']          \n",
            "                                                                                                  \n",
            " dense (Dense)                  (None, 128)          28800       ['flatten[0][0]']                \n",
            "                                                                                                  \n",
            " dropout_37 (Dropout)           (None, 128)          0           ['dense[0][0]']                  \n",
            "                                                                                                  \n",
            " dense_1 (Dense)                (None, 2)            258         ['dropout_37[0][0]']             \n",
            "                                                                                                  \n",
            "==================================================================================================\n",
            "Total params: 109,585,058\n",
            "Trainable params: 109,585,058\n",
            "Non-trainable params: 0\n",
            "__________________________________________________________________________________________________\n",
            "Model: \"model\"\n",
            "__________________________________________________________________________________________________\n",
            " Layer (type)                   Output Shape         Param #     Connected to                     \n",
            "==================================================================================================\n",
            " input_2 (InputLayer)           [(None, 32)]         0           []                               \n",
            "                                                                                                  \n",
            " input_1 (InputLayer)           [(None, 32)]         0           []                               \n",
            "                                                                                                  \n",
            " input_3 (InputLayer)           [(None, 32)]         0           []                               \n",
            "                                                                                                  \n",
            " tf_bert_model (TFBertModel)    TFBaseModelOutputWi  109482240   ['input_2[0][0]',                \n",
            "                                thPoolingAndCrossAt               'input_1[0][0]',                \n",
            "                                tentions(last_hidde               'input_3[0][0]']                \n",
            "                                n_state=(None, 32,                                                \n",
            "                                768),                                                             \n",
            "                                 pooler_output=(Non                                               \n",
            "                                e, 768),                                                          \n",
            "                                 past_key_values=No                                               \n",
            "                                ne, hidden_states=N                                               \n",
            "                                one, attentions=Non                                               \n",
            "                                e, cross_attentions                                               \n",
            "                                =None)                                                            \n",
            "                                                                                                  \n",
            " conv1d (Conv1D)                (None, 15, 32)       73760       ['tf_bert_model[0][0]']          \n",
            "                                                                                                  \n",
            " max_pooling1d (MaxPooling1D)   (None, 7, 32)        0           ['conv1d[0][0]']                 \n",
            "                                                                                                  \n",
            " flatten (Flatten)              (None, 224)          0           ['max_pooling1d[0][0]']          \n"
          ]
        },
        {
          "output_type": "stream",
          "name": "stderr",
          "text": [
            "/usr/local/lib/python3.7/dist-packages/keras/optimizer_v2/adam.py:105: UserWarning: The `lr` argument is deprecated, use `learning_rate` instead.\n",
            "  super(Adam, self).__init__(name, **kwargs)\n"
          ]
        },
        {
          "output_type": "stream",
          "name": "stdout",
          "text": [
            "                                                                                                  \n",
            " dense (Dense)                  (None, 128)          28800       ['flatten[0][0]']                \n",
            "                                                                                                  \n",
            " dropout_37 (Dropout)           (None, 128)          0           ['dense[0][0]']                  \n",
            "                                                                                                  \n",
            " dense_1 (Dense)                (None, 2)            258         ['dropout_37[0][0]']             \n",
            "                                                                                                  \n",
            "==================================================================================================\n",
            "Total params: 109,585,058\n",
            "Trainable params: 109,585,058\n",
            "Non-trainable params: 0\n",
            "__________________________________________________________________________________________________\n"
          ]
        },
        {
          "output_type": "execute_result",
          "data": {
            "text/plain": [
              "<IPython.core.display.Image object>"
            ],
            "image/png": "[encoded data removed]"
          },
          "metadata": {},
          "execution_count": 10
        }
      ]
    },
    {
      "cell_type": "code",
      "source": [
        "history = model.fit(\n",
        "    x_train,\n",
        "    y_train,\n",
        "    validation_data = (x_valid, y_valid),\n",
        "    epochs=5,\n",
        "    verbose=1,\n",
        "    batch_size=200)"
      ],
      "metadata": {
        "colab": {
          "base_uri": "https://localhost:8080/"
        },
        "id": "sfopsljmlKhw",
        "outputId": "1b80d446-199e-493c-e716-b290c707ba4a"
      },
      "execution_count": null,
      "outputs": [
        {
          "output_type": "stream",
          "name": "stdout",
          "text": [
            "Epoch 1/5\n",
            "WARNING:tensorflow:Gradients do not exist for variables ['tf_bert_model/bert/pooler/dense/kernel:0', 'tf_bert_model/bert/pooler/dense/bias:0'] when minimizing the loss. If you're using `model.compile()`, did you forget to provide a `loss`argument?\n",
            "WARNING:tensorflow:Gradients do not exist for variables ['tf_bert_model/bert/pooler/dense/kernel:0', 'tf_bert_model/bert/pooler/dense/bias:0'] when minimizing the loss. If you're using `model.compile()`, did you forget to provide a `loss`argument?\n",
            "182/182 [==============================] - 440s 2s/step - loss: 0.0847 - accuracy: 0.9725 - recall: 0.9725 - precision: 0.9725 - val_loss: 0.0041 - val_accuracy: 0.9995 - val_recall: 0.9995 - val_precision: 0.9995\n",
            "Epoch 2/5\n",
            "182/182 [==============================] - 414s 2s/step - loss: 0.0073 - accuracy: 0.9993 - recall: 0.9993 - precision: 0.9993 - val_loss: 0.0053 - val_accuracy: 0.9993 - val_recall: 0.9993 - val_precision: 0.9993\n",
            "Epoch 3/5\n",
            "182/182 [==============================] - 414s 2s/step - loss: 0.0047 - accuracy: 0.9994 - recall: 0.9994 - precision: 0.9994 - val_loss: 0.0022 - val_accuracy: 0.9998 - val_recall: 0.9998 - val_precision: 0.9998\n",
            "Epoch 4/5\n",
            "182/182 [==============================] - 414s 2s/step - loss: 0.0027 - accuracy: 0.9995 - recall: 0.9995 - precision: 0.9995 - val_loss: 0.0023 - val_accuracy: 0.9998 - val_recall: 0.9998 - val_precision: 0.9998\n",
            "Epoch 5/5\n",
            "182/182 [==============================] - 414s 2s/step - loss: 9.5847e-04 - accuracy: 0.9999 - recall: 0.9999 - precision: 0.9999 - val_loss: 0.0025 - val_accuracy: 0.9998 - val_recall: 0.9998 - val_precision: 0.9998\n"
          ]
        }
      ]
    },
    {
      "cell_type": "markdown",
      "source": [
        "**Testing the trained model:**"
      ],
      "metadata": {
        "id": "O49XsTBiR_Kv"
      }
    },
    {
      "cell_type": "code",
      "source": [
        "from sklearn.metrics import *\n",
        "import matplotlib.pyplot as plt\n",
        "\n",
        "predicts = model.predict(x_test)\n",
        "pred_labels = [np.argmax(predicts[i]) for i in range(len(testting_set['labels']))]\n",
        "pred_prob = [predicts[i][1] for i in range(len(testting_set['labels']))]\n",
        "\n",
        "print('Test Accuracy:', accuracy_score(testting_set['labels'], pred_labels))\n",
        "print('Test Recall:', recall_score(testting_set['labels'], pred_labels, average='micro'))\n",
        "print('Test Precision:', precision_score(testting_set['labels'], pred_labels, average='micro'))\n",
        "print('Test F1-Score:', f1_score(testting_set['labels'], pred_labels, average='micro'))\n",
        "\n",
        "fpr, tpr, _ = roc_curve(testting_set['labels'],  pred_prob)\n",
        "auc = roc_auc_score(testting_set['labels'], pred_prob)\n",
        "\n",
        "plt.plot(fpr, tpr, label=\"auc=\" + str(auc))\n",
        "plt.legend(loc=4)\n",
        "plt.show()"
      ],
      "metadata": {
        "colab": {
          "base_uri": "https://localhost:8080/",
          "height": 334
        },
        "id": "1zBk1nBhlQ56",
        "outputId": "9db01667-8264-4ade-dddb-6d274c9ae469"
      },
      "execution_count": null,
      "outputs": [
        {
          "output_type": "stream",
          "name": "stdout",
          "text": [
            "Test Accuracy: 0.9997772828507795\n",
            "Test Recall: 0.9997772828507795\n",
            "Test Precision: 0.9997772828507795\n",
            "Test F1-Score: 0.9997772828507795\n"
          ]
        },
        {
          "output_type": "display_data",
          "data": {
            "text/plain": [
              "<Figure size 432x288 with 1 Axes>"
            ],
            "image/png": "[encoded data removed]"
          },
          "metadata": {
            "needs_background": "light"
          }
        }
      ]
    },
    {
      "cell_type": "markdown",
      "source": [
        "**Some examples of misclassified news articles:**"
      ],
      "metadata": {
        "id": "yJ-JhTixSgXO"
      }
    },
    {
      "cell_type": "code",
      "source": [
        "misclassified = {i: (v, pred_labels[i]) for i, v in enumerate(testting_set['labels']) if v != pred_labels[i]}\n",
        "\n",
        "print(misclassified)\n",
        "\n",
        "test.iloc[[list(misclassified.keys())[0]]]"
      ],
      "metadata": {
        "colab": {
          "base_uri": "https://localhost:8080/",
          "height": 98
        },
        "id": "9Rm0I4r4dDEU",
        "outputId": "0679b37a-410f-4dc8-944e-a00124416c0e"
      },
      "execution_count": null,
      "outputs": [
        {
          "output_type": "stream",
          "name": "stdout",
          "text": [
            "{2350: (0, 1)}\n"
          ]
        },
        {
          "output_type": "execute_result",
          "data": {
            "text/plain": [
              "      Unnamed: 0                                              title  \\\n",
              "2350        2350  White House unveils list of ex-lobbyists grant...   \n",
              "\n",
              "                                                   text       subject  \\\n",
              "2350  The White House on Wednesday disclosed a group...  politicsNews   \n",
              "\n",
              "               date  label  \n",
              "2350  June 1, 2017       0  "
            ],
            "text/html": [
              "\n",
              "  <div id=\"df-81e50286-ea98-42a3-8000-6d98b8b823bf\">\n",
              "    <div class=\"colab-df-container\">\n",
              "      <div>\n",
              "<style scoped>\n",
              "    .dataframe tbody tr th:only-of-type {\n",
              "        vertical-align: middle;\n",
              "    }\n",
              "\n",
              "    .dataframe tbody tr th {\n",
              "        vertical-align: top;\n",
              "    }\n",
              "\n",
              "    .dataframe thead th {\n",
              "        text-align: right;\n",
              "    }\n",
              "</style>\n",
              "<table border=\"1\" class=\"dataframe\">\n",
              "  <thead>\n",
              "    <tr style=\"text-align: right;\">\n",
              "      <th></th>\n",
              "      <th>Unnamed: 0</th>\n",
              "      <th>title</th>\n",
              "      <th>text</th>\n",
              "      <th>subject</th>\n",
              "      <th>date</th>\n",
              "      <th>label</th>\n",
              "    </tr>\n",
              "  </thead>\n",
              "  <tbody>\n",
              "    <tr>\n",
              "      <th>2350</th>\n",
              "      <td>2350</td>\n",
              "      <td>White House unveils list of ex-lobbyists grant...</td>\n",
              "      <td>The White House on Wednesday disclosed a group...</td>\n",
              "      <td>politicsNews</td>\n",
              "      <td>June 1, 2017</td>\n",
              "      <td>0</td>\n",
              "    </tr>\n",
              "  </tbody>\n",
              "</table>\n",
              "</div>\n",
              "      <button class=\"colab-df-convert\" onclick=\"convertToInteractive('df-81e50286-ea98-42a3-8000-6d98b8b823bf')\"\n",
              "              title=\"Convert this dataframe to an interactive table.\"\n",
              "              style=\"display:none;\">\n",
              "        \n",
              "  <svg xmlns=\"http://www.w3.org/2000/svg\" height=\"24px\"viewBox=\"0 0 24 24\"\n",
              "       width=\"24px\">\n",
              "    <path d=\"M0 0h24v24H0V0z\" fill=\"none\"/>\n",
              "    <path d=\"M18.56 5.44l.94 2.06.94-2.06 2.06-.94-2.06-.94-.94-2.06-.94 2.06-2.06.94zm-11 1L8.5 8.5l.94-2.06 2.06-.94-2.06-.94L8.5 2.5l-.94 2.06-2.06.94zm10 10l.94 2.06.94-2.06 2.06-.94-2.06-.94-.94-2.06-.94 2.06-2.06.94z\"/><path d=\"M17.41 7.96l-1.37-1.37c-.4-.4-.92-.59-1.43-.59-.52 0-1.04.2-1.43.59L10.3 9.45l-7.72 7.72c-.78.78-.78 2.05 0 2.83L4 21.41c.39.39.9.59 1.41.59.51 0 1.02-.2 1.41-.59l7.78-7.78 2.81-2.81c.8-.78.8-2.07 0-2.86zM5.41 20L4 18.59l7.72-7.72 1.47 1.35L5.41 20z\"/>\n",
              "  </svg>\n",
              "      </button>\n",
              "      \n",
              "  <style>\n",
              "    .colab-df-container {\n",
              "      display:flex;\n",
              "      flex-wrap:wrap;\n",
              "      gap: 12px;\n",
              "    }\n",
              "\n",
              "    .colab-df-convert {\n",
              "      background-color: #E8F0FE;\n",
              "      border: none;\n",
              "      border-radius: 50%;\n",
              "      cursor: pointer;\n",
              "      display: none;\n",
              "      fill: #1967D2;\n",
              "      height: 32px;\n",
              "      padding: 0 0 0 0;\n",
              "      width: 32px;\n",
              "    }\n",
              "\n",
              "    .colab-df-convert:hover {\n",
              "      background-color: #E2EBFA;\n",
              "      box-shadow: 0px 1px 2px rgba(60, 64, 67, 0.3), 0px 1px 3px 1px rgba(60, 64, 67, 0.15);\n",
              "      fill: #174EA6;\n",
              "    }\n",
              "\n",
              "    [theme=dark] .colab-df-convert {\n",
              "      background-color: #3B4455;\n",
              "      fill: #D2E3FC;\n",
              "    }\n",
              "\n",
              "    [theme=dark] .colab-df-convert:hover {\n",
              "      background-color: #434B5C;\n",
              "      box-shadow: 0px 1px 3px 1px rgba(0, 0, 0, 0.15);\n",
              "      filter: drop-shadow(0px 1px 2px rgba(0, 0, 0, 0.3));\n",
              "      fill: #FFFFFF;\n",
              "    }\n",
              "  </style>\n",
              "\n",
              "      <script>\n",
              "        const buttonEl =\n",
              "          document.querySelector('#df-81e50286-ea98-42a3-8000-6d98b8b823bf button.colab-df-convert');\n",
              "        buttonEl.style.display =\n",
              "          google.colab.kernel.accessAllowed ? 'block' : 'none';\n",
              "\n",
              "        async function convertToInteractive(key) {\n",
              "          const element = document.querySelector('#df-81e50286-ea98-42a3-8000-6d98b8b823bf');\n",
              "          const dataTable =\n",
              "            await google.colab.kernel.invokeFunction('convertToInteractive',\n",
              "                                                     [key], {});\n",
              "          if (!dataTable) return;\n",
              "\n",
              "          const docLinkHtml = 'Like what you see? Visit the ' +\n",
              "            '<a target=\"_blank\" href=https://colab.research.google.com/notebooks/data_table.ipynb>data table notebook</a>'\n",
              "            + ' to learn more about interactive tables.';\n",
              "          element.innerHTML = '';\n",
              "          dataTable['output_type'] = 'display_data';\n",
              "          await google.colab.output.renderOutput(dataTable, element);\n",
              "          const docLink = document.createElement('div');\n",
              "          docLink.innerHTML = docLinkHtml;\n",
              "          element.appendChild(docLink);\n",
              "        }\n",
              "      </script>\n",
              "    </div>\n",
              "  </div>\n",
              "  "
            ]
          },
          "metadata": {},
          "execution_count": 51
        }
      ]
    },
    {
      "cell_type": "code",
      "source": [
        "print('Number of words in misclassified news article:', len(test.iloc[[list(misclassified.keys())[0]]].text.values[0].split(' ')))"
      ],
      "metadata": {
        "colab": {
          "base_uri": "https://localhost:8080/"
        },
        "id": "HAp7vV7ZiKji",
        "outputId": "a71b6f51-526b-489d-bd73-2a40f63c252a"
      },
      "execution_count": null,
      "outputs": [
        {
          "output_type": "stream",
          "name": "stdout",
          "text": [
            "Number of words in misclassified news article: 532\n"
          ]
        }
      ]
    },
    {
      "cell_type": "markdown",
      "source": [
        "**To improve the model:**\n",
        "\n",
        "*   We can improve the model by feeding the news title as an input, applying a convolutional network on both inputs, i.e., the news text and the news title, and finally, concatenating the outputs of the two networks to feed the dense layer for classification.\n",
        "*   It may be possible to classify this news article correctly by increasing the value of parameter MAX_LEN since it contains 532 words.\n",
        "*   News keywords can be extracted from the news text and given to the model as an additional feature.\n",
        "\n"
      ],
      "metadata": {
        "id": "yFstgbyzgER9"
      }
    }
  ]
}